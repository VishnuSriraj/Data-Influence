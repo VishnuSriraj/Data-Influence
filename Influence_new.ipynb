{
  "nbformat": 4,
  "nbformat_minor": 0,
  "metadata": {
    "colab": {
      "name": "Influence_new.ipynb",
      "provenance": [],
      "authorship_tag": "ABX9TyMn19etnO2qOMKzHFaDLxZF",
      "include_colab_link": true
    },
    "kernelspec": {
      "name": "python3",
      "display_name": "Python 3"
    },
    "language_info": {
      "name": "python"
    }
  },
  "cells": [
    {
      "cell_type": "markdown",
      "metadata": {
        "id": "view-in-github",
        "colab_type": "text"
      },
      "source": [
        "<a href=\"https://colab.research.google.com/github/VishnuSriraj/Data-Influence/blob/main/Influence_new.ipynb\" target=\"_parent\"><img src=\"https://colab.research.google.com/assets/colab-badge.svg\" alt=\"Open In Colab\"/></a>"
      ]
    },
    {
      "cell_type": "code",
      "metadata": {
        "id": "jz_QGuM91S_T"
      },
      "source": [
        "import unittest\n",
        "from unittest import TestCase\n",
        "\n",
        "import torch\n",
        "from sklearn import linear_model\n",
        "import numpy as np\n",
        "\n",
        "from utils import get_2class_mnist, visualize_result\n",
        "from model import LogisticRegression as LR"
      ],
      "execution_count": null,
      "outputs": []
    },
    {
      "cell_type": "code",
      "metadata": {
        "colab": {
          "base_uri": "https://localhost:8080/"
        },
        "id": "IaRlPgq1g1Y4",
        "outputId": "4f79507e-cd52-4e02-89ac-1549ecaa00f4"
      },
      "source": [
        "!pip3 install --user pytorch-influence-functions"
      ],
      "execution_count": 2,
      "outputs": [
        {
          "output_type": "stream",
          "text": [
            "Requirement already satisfied: pytorch-influence-functions in /root/.local/lib/python3.7/site-packages (0.1.1)\n",
            "Requirement already satisfied: numpy>=1.13.0 in /usr/local/lib/python3.7/dist-packages (from pytorch-influence-functions) (1.19.5)\n",
            "Requirement already satisfied: torch>=1.0 in /usr/local/lib/python3.7/dist-packages (from pytorch-influence-functions) (1.9.0+cu102)\n",
            "Requirement already satisfied: typing-extensions in /usr/local/lib/python3.7/dist-packages (from torch>=1.0->pytorch-influence-functions) (3.7.4.3)\n"
          ],
          "name": "stdout"
        }
      ]
    },
    {
      "cell_type": "code",
      "metadata": {
        "id": "IT15_-B81QHN"
      },
      "source": [
        "import pytorch_influence_functions as ptif\n",
        "\n",
        "from pytorch_influence_functions.influence_functions.hvp_grad import (\n",
        "    grad_z,\n",
        "    s_test_sample,\n",
        ")\n",
        "from pytorch_influence_functions.influence_functions.influence_functions import (\n",
        "    calc_influence_single,\n",
        ")"
      ],
      "execution_count": null,
      "outputs": []
    },
    {
      "cell_type": "code",
      "metadata": {
        "id": "cZhjiu2MgzB2"
      },
      "source": [
        "EPOCH = 10\n",
        "BATCH_SIZE = 100\n",
        "NUM_A, NUM_B = 1, 7\n",
        "TEST_INDEX = 5\n",
        "WEIGHT_DECAY = 0.01\n",
        "OUTPUT_DIR = 'result'\n",
        "SAMPLE_NUM = 50 * 2\n",
        "RECURSION_DEPTH = 1000\n",
        "R = 10\n",
        "\n",
        "class TestLeaveOneOut(TestCase):\n",
        "    def test_leave_one_out(self):\n",
        "\n",
        "        gpus = 1 if torch.cuda.is_available() else 0\n",
        "\n",
        "        (x_train, y_train), (x_test, y_test) = get_2class_mnist(NUM_A, NUM_B)\n",
        "        train_sample_num = len(x_train)\n",
        "\n",
        "        class CreateData(torch.utils.data.Dataset):\n",
        "            def __init__(self, data, targets):\n",
        "                self.data = data\n",
        "                self.targets = targets\n",
        "\n",
        "            def __len__(self):\n",
        "                return len(self.data)\n",
        "\n",
        "            def __getitem__(self, idx):\n",
        "                out_data = self.data[idx]\n",
        "                out_label = self.targets[idx]\n",
        "\n",
        "                return out_data, out_label\n",
        "        \n",
        "        train_data = CreateData(x_train, y_train)\n",
        "        train_loader = torch.utils.data.DataLoader(train_data, batch_size=1, shuffle=False)\n",
        "\n",
        "        # prepare sklearn model to train w\n",
        "        C = 1.0 / (train_sample_num * WEIGHT_DECAY)\n",
        "        sklearn_model = linear_model.LogisticRegression(C=C, solver='lbfgs', tol=1e-8, fit_intercept=False)\n",
        "\n",
        "        # prepare pytorch model to compute influence function\n",
        "        torch_model = LR(weight_decay=WEIGHT_DECAY)\n",
        "\n",
        "        # train\n",
        "        sklearn_model.fit(x_train, y_train.ravel())\n",
        "        print('LBFGS training took %s iter.' % sklearn_model.n_iter_)\n",
        "\n",
        "        # assign W into pytorch model\n",
        "        w_opt = sklearn_model.coef_.ravel()\n",
        "        with torch.no_grad():\n",
        "            torch_model.w = torch.nn.Parameter(\n",
        "                torch.tensor(w_opt, dtype=torch.float)\n",
        "            )\n",
        "        \n",
        "        # calculate original loss\n",
        "        x_test_input = torch.FloatTensor(x_test[TEST_INDEX: TEST_INDEX+1])\n",
        "        y_test_input = torch.LongTensor(y_test[TEST_INDEX: TEST_INDEX+1])\n",
        "\n",
        "        test_data = CreateData(x_test[TEST_INDEX: TEST_INDEX+1], y_test[TEST_INDEX: TEST_INDEX+1])\n",
        "        test_loader = torch.utils.data.DataLoader(test_data, batch_size=1, shuffle=True)\n",
        "\n",
        "        if gpus >= 0:\n",
        "            torch_model = torch_model.cuda()\n",
        "            x_test_input = x_test_input.cuda()\n",
        "            y_test_input = y_test_input.cuda()\n",
        "\n",
        "        test_loss_ori = torch_model.loss(torch_model(x_test_input), y_test_input, train=False).detach().cpu().numpy()\n",
        "\n",
        "        loss_diff_approx, _, _, _, = calc_influence_single(torch_model, train_loader, test_loader, test_id_num=0, gpu=1,\n",
        "                                    recursion_depth=RECURSION_DEPTH, r=R, damp=0)\n",
        "        loss_diff_approx = - torch.FloatTensor(loss_diff_approx).cpu().numpy()\n",
        "\n",
        "        # get high and low loss diff indice\n",
        "        sorted_indice = np.argsort(loss_diff_approx)\n",
        "        sample_indice = np.concatenate([sorted_indice[-int(SAMPLE_NUM/2):], sorted_indice[:int(SAMPLE_NUM/2)]])\n",
        "\n",
        "        # calculate true loss diff\n",
        "        loss_diff_true = np.zeros(SAMPLE_NUM)\n",
        "        for i, index in zip(range(SAMPLE_NUM), sample_indice):\n",
        "            print('[{}/{}]'.format(i+1, SAMPLE_NUM))\n",
        "\n",
        "            # get minus one dataset\n",
        "            x_train_minus_one = np.delete(x_train, index, axis=0)\n",
        "            y_train_minus_one = np.delete(y_train, index, axis=0)\n",
        "\n",
        "            # retrain\n",
        "            C = 1.0 / ((train_sample_num - 1) * WEIGHT_DECAY)\n",
        "            sklearn_model_minus_one = linear_model.LogisticRegression(C=C, fit_intercept=False, tol=1e-8, solver='lbfgs')\n",
        "            sklearn_model_minus_one.fit(x_train_minus_one, y_train_minus_one.ravel())\n",
        "            print('LBFGS training took {} iter.'.format(sklearn_model_minus_one.n_iter_))\n",
        "\n",
        "            # assign w on tensorflow model\n",
        "            w_retrain = sklearn_model_minus_one.coef_.T.ravel()\n",
        "            with torch.no_grad():\n",
        "                torch_model.w = torch.nn.Parameter(\n",
        "                    torch.tensor(w_retrain, dtype=torch.float)\n",
        "                )\n",
        "            \n",
        "            if gpus >= 0:\n",
        "                torch_model = torch_model.cuda()\n",
        "\n",
        "            # get retrain loss\n",
        "            test_loss_retrain = torch_model.loss(torch_model(x_test_input), y_test_input, train=False).detach().cpu().numpy()\n",
        "\n",
        "            # get true loss diff\n",
        "            loss_diff_true[i] = test_loss_retrain - test_loss_ori\n",
        "\n",
        "            print('Original loss       :{}'.format(test_loss_ori))\n",
        "            print('Retrain loss        :{}'.format(test_loss_retrain))\n",
        "            print('True loss diff      :{}'.format(loss_diff_true[i]))\n",
        "            print('Estimated loss diff :{}'.format(loss_diff_approx[index]))\n",
        "\n",
        "        r2_score = visualize_result(loss_diff_true, loss_diff_approx[sample_indice])\n",
        "\n",
        "        self.assertTrue(r2_score > 0.9)\n",
        "\n",
        "\n",
        "if __name__ == \"__main__\":\n",
        "    unittest.main()"
      ],
      "execution_count": null,
      "outputs": []
    }
  ]
}